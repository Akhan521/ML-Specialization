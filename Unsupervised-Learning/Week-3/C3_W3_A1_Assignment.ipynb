{
 "cells": [
  {
   "cell_type": "markdown",
   "metadata": {},
   "source": [
    "# Deep Q-Learning - Lunar Lander\n",
    "\n",
    "In this assignment, you will train an agent to land a lunar lander safely on a landing pad on the surface of the moon.\n",
    "\n",
    "\n",
    "# Outline\n",
    "- [ 1 - Import Packages <img align=\"Right\" src=\"./images/lunar_lander.gif\" width = 60% >](#1)\n",
    "- [ 2 - Hyperparameters](#2)\n",
    "- [ 3 - The Lunar Lander Environment](#3)\n",
    "  - [ 3.1 Action Space](#3.1)\n",
    "  - [ 3.2 Observation Space](#3.2)\n",
    "  - [ 3.3 Rewards](#3.3)\n",
    "  - [ 3.4 Episode Termination](#3.4)\n",
    "- [ 4 - Load the Environment](#4)\n",
    "- [ 5 - Interacting with the Gym Environment](#5)\n",
    "    - [ 5.1 Exploring the Environment's Dynamics](#5.1)\n",
    "- [ 6 - Deep Q-Learning](#6)\n",
    "  - [ 6.1 Target Network](#6.1)\n",
    "    - [ Exercise 1](#ex01)\n",
    "  - [ 6.2 Experience Replay](#6.2)\n",
    "- [ 7 - Deep Q-Learning Algorithm with Experience Replay](#7)\n",
    "  - [ Exercise 2](#ex02)\n",
    "- [ 8 - Update the Network Weights](#8)\n",
    "- [ 9 - Train the Agent](#9)\n",
    "- [ 10 - See the Trained Agent In Action](#10)\n",
    "- [ 11 - Congratulations!](#11)\n",
    "- [ 12 - References](#12)\n"
   ]
  },
  {
   "cell_type": "markdown",
   "metadata": {},
   "source": [
    "_**NOTE:** To prevent errors from the autograder, you are not allowed to edit or delete non-graded cells in this lab. Please also refrain from adding any new cells. \n",
    "**Once you have passed this assignment** and want to experiment with any of the non-graded code, you may follow the instructions at the bottom of this notebook._"
   ]
  },
  {
   "cell_type": "markdown",
   "metadata": {},
   "source": [
    "<a name=\"1\"></a>\n",
    "## 1 - Import Packages\n",
    "\n",
    "We'll make use of the following packages:\n",
    "- `numpy` is a package for scientific computing in python.\n",
    "- `deque` will be our data structure for our memory buffer.\n",
    "- `namedtuple` will be used to store the experience tuples.\n",
    "- The `gym` toolkit is a collection of environments that can be used to test reinforcement learning algorithms. We should note that in this notebook we are using `gym` version `0.24.0`.\n",
    "- `PIL.Image` and `pyvirtualdisplay` are needed to render the Lunar Lander environment.\n",
    "- We will use several modules from the `tensorflow.keras` framework for building deep learning models.\n",
    "- `utils` is a module that contains helper functions for this assignment. You do not need to modify the code in this file.\n",
    "\n",
    "Run the cell below to import all the necessary packages."
   ]
  },
  {
   "cell_type": "code",
   "execution_count": 1,
   "metadata": {
    "deletable": false,
    "editable": false,
    "id": "KYbOPKRtfQOr"
   },
   "outputs": [],
   "source": [
    "import time\n",
    "from collections import deque, namedtuple\n",
    "\n",
    "import gym\n",
    "import numpy as np\n",
    "import PIL.Image\n",
    "import tensorflow as tf\n",
    "import utils\n",
    "\n",
    "from pyvirtualdisplay import Display\n",
    "from tensorflow.keras import Sequential\n",
    "from tensorflow.keras.layers import Dense, Input\n",
    "from tensorflow.keras.losses import MSE\n",
    "from tensorflow.keras.optimizers import Adam"
   ]
  },
  {
   "cell_type": "code",
   "execution_count": 2,
   "metadata": {
    "deletable": false,
    "editable": false
   },
   "outputs": [],
   "source": [
    "# Set up a virtual display to render the Lunar Lander environment.\n",
    "Display(visible=0, size=(840, 480)).start();\n",
    "\n",
    "# Set the random seed for TensorFlow\n",
    "tf.random.set_seed(utils.SEED)"
   ]
  },
  {
   "cell_type": "markdown",
   "metadata": {},
   "source": [
    "<a name=\"2\"></a>\n",
    "## 2 - Hyperparameters\n",
    "\n",
    "Run the cell below to set the hyperparameters."
   ]
  },
  {
   "cell_type": "code",
   "execution_count": 3,
   "metadata": {
    "deletable": false,
    "editable": false
   },
   "outputs": [],
   "source": [
    "MEMORY_SIZE = 100_000     # size of memory buffer\n",
    "GAMMA = 0.995             # discount factor\n",
    "ALPHA = 1e-3              # learning rate  \n",
    "NUM_STEPS_FOR_UPDATE = 4  # perform a learning update every C time steps"
   ]
  },
  {
   "cell_type": "markdown",
   "metadata": {},
   "source": [
    "<a name=\"3\"></a>\n",
    "## 3 - The Lunar Lander Environment\n",
    "\n",
    "In this notebook we will be using [OpenAI's Gym Library](https://www.gymlibrary.dev/). The Gym library provides a wide variety of environments for reinforcement learning. To put it simply, an environment represents a problem or task to be solved. In this notebook, we will try to solve the Lunar Lander environment using reinforcement learning.\n",
    "\n",
    "The goal of the Lunar Lander environment is to land the lunar lander safely on the landing pad on the surface of the moon. The landing pad is designated by two flag poles and its center is at coordinates `(0,0)` but the lander is also allowed to land outside of the landing pad. The lander starts at the top center of the environment with a random initial force applied to its center of mass and has infinite fuel. The environment is considered solved if you get `200` points. \n",
    "\n",
    "<br>\n",
    "<br>\n",
    "<figure>\n",
    "  <img src = \"images/lunar_lander.gif\" width = 40%>\n",
    "      <figcaption style = \"text-align: center; font-style: italic\">Fig 1. Lunar Lander Environment.</figcaption>\n",
    "</figure>\n",
    "\n",
    "\n",
    "\n",
    "<a name=\"3.1\"></a>\n",
    "### 3.1 Action Space\n",
    "\n",
    "The agent has four discrete actions available:\n",
    "\n",
    "* Do nothing.\n",
    "* Fire right engine.\n",
    "* Fire main engine.\n",
    "* Fire left engine.\n",
    "\n",
    "Each action has a corresponding numerical value:\n",
    "\n",
    "```python\n",
    "Do nothing = 0\n",
    "Fire right engine = 1\n",
    "Fire main engine = 2\n",
    "Fire left engine = 3\n",
    "```\n",
    "\n",
    "<a name=\"3.2\"></a>\n",
    "### 3.2 Observation Space\n",
    "\n",
    "The agent's observation space consists of a state vector with 8 variables:\n",
    "\n",
    "* Its $(x,y)$ coordinates. The landing pad is always at coordinates $(0,0)$.\n",
    "* Its linear velocities $(\\dot x,\\dot y)$.\n",
    "* Its angle $\\theta$.\n",
    "* Its angular velocity $\\dot \\theta$.\n",
    "* Two booleans, $l$ and $r$, that represent whether each leg is in contact with the ground or not.\n",
    "\n",
    "<a name=\"3.3\"></a>\n",
    "### 3.3 Rewards\n",
    "\n",
    "After every step, a reward is granted. The total reward of an episode is the sum of the rewards for all the steps within that episode.\n",
    "\n",
    "For each step, the reward:\n",
    "- is increased/decreased the closer/further the lander is to the landing pad.\n",
    "- is increased/decreased the slower/faster the lander is moving.\n",
    "- is decreased the more the lander is tilted (angle not horizontal).\n",
    "- is increased by 10 points for each leg that is in contact with the ground.\n",
    "- is decreased by 0.03 points each frame a side engine is firing.\n",
    "- is decreased by 0.3 points each frame the main engine is firing.\n",
    "\n",
    "The episode receives an additional reward of -100 or +100 points for crashing or landing safely respectively.\n",
    "\n",
    "<a name=\"3.4\"></a>\n",
    "### 3.4 Episode Termination\n",
    "\n",
    "An episode ends (i.e the environment enters a terminal state) if:\n",
    "\n",
    "* The lunar lander crashes (i.e if the body of the lunar lander comes in contact with the surface of the moon).\n",
    "\n",
    "* The absolute value of the lander's $x$-coordinate is greater than 1 (i.e. it goes beyond the left or right border)\n",
    "\n",
    "You can check out the [Open AI Gym documentation](https://www.gymlibrary.dev/environments/box2d/lunar_lander/) for a full description of the environment. "
   ]
  },
  {
   "cell_type": "markdown",
   "metadata": {},
   "source": [
    "<a name=\"4\"></a>\n",
    "## 4 - Load the Environment\n",
    "\n",
    "We start by loading the `LunarLander-v2` environment from the `gym` library by using the `.make()` method. `LunarLander-v2` is the latest version of the Lunar Lander environment and you can read about its version history in the [Open AI Gym documentation](https://www.gymlibrary.dev/environments/box2d/lunar_lander/#version-history)."
   ]
  },
  {
   "cell_type": "code",
   "execution_count": 4,
   "metadata": {
    "deletable": false,
    "editable": false,
    "id": "ILVMYKewfR0n"
   },
   "outputs": [],
   "source": [
    "env = gym.make('LunarLander-v2')"
   ]
  },
  {
   "cell_type": "markdown",
   "metadata": {},
   "source": [
    "Once we load the environment we use the `.reset()` method to reset the environment to the initial state. The lander starts at the top center of the environment and we can render the first frame of the environment by using the `.render()` method."
   ]
  },
  {
   "cell_type": "code",
   "execution_count": 5,
   "metadata": {
    "deletable": false,
    "editable": false
   },
   "outputs": [
    {
     "data": {
      "image/png": "[encoded data removed]",
      "text/plain": [
       "<PIL.Image.Image image mode=RGB size=600x400 at 0x7C78BBE06C90>"
      ]
     },
     "execution_count": 5,
     "metadata": {},
     "output_type": "execute_result"
    }
   ],
   "source": [
    "env.reset()\n",
    "PIL.Image.fromarray(env.render(mode='rgb_array'))"
   ]
  },
  {
   "cell_type": "markdown",
   "metadata": {},
   "source": [
    "In order to build our neural network later on we need to know the size of the state vector and the number of valid actions. We can get this information from our environment by using the `.observation_space.shape` and `action_space.n` methods, respectively."
   ]
  },
  {
   "cell_type": "code",
   "execution_count": 6,
   "metadata": {
    "deletable": false,
    "editable": false,
    "id": "x3fdqdG4CUu2"
   },
   "outputs": [
    {
     "name": "stdout",
     "output_type": "stream",
     "text": [
      "State Shape: (8,)\n",
      "Number of actions: 4\n"
     ]
    }
   ],
   "source": [
    "state_size = env.observation_space.shape\n",
    "num_actions = env.action_space.n\n",
    "\n",
    "print('State Shape:', state_size)\n",
    "print('Number of actions:', num_actions)"
   ]
  },
  {
   "cell_type": "markdown",
   "metadata": {},
   "source": [
    "<a name=\"5\"></a>\n",
    "## 5 - Interacting with the Gym Environment\n",
    "\n",
    "The Gym library implements the standard “agent-environment loop” formalism:\n",
    "\n",
    "<br>\n",
    "<center>\n",
    "<video src = \"./videos/rl_formalism.m4v\" width=\"840\" height=\"480\" controls autoplay loop poster=\"./images/rl_formalism.png\"> </video>\n",
    "<figcaption style = \"text-align:center; font-style:italic\">Fig 2. Agent-environment Loop Formalism.</figcaption>\n",
    "</center>\n",
    "<br>\n",
    "\n",
    "In the standard “agent-environment loop” formalism, an agent interacts with the environment in discrete time steps $t=0,1,2,...$. At each time step $t$, the agent uses a policy $\\pi$ to select an action $A_t$ based on its observation of the environment's state $S_t$. The agent receives a numerical reward $R_t$ and on the next time step, moves to a new state $S_{t+1}$.\n",
    "\n",
    "<a name=\"5.1\"></a>\n",
    "### 5.1 Exploring the Environment's Dynamics\n",
    "\n",
    "In Open AI's Gym environments, we use the `.step()` method to run a single time step of the environment's dynamics. In the version of `gym` that we are using the `.step()` method accepts an action and returns four values:\n",
    "\n",
    "* `observation` (**object**): an environment-specific object representing your observation of the environment. In the Lunar Lander environment this corresponds to a numpy array containing the positions and velocities of the lander as described in section [3.2 Observation Space](#3.2).\n",
    "\n",
    "\n",
    "* `reward` (**float**): amount of reward returned as a result of taking the given action. In the Lunar Lander environment this corresponds to a float of type `numpy.float64` as described in section [3.3 Rewards](#3.3).\n",
    "\n",
    "\n",
    "* `done` (**boolean**): When done is `True`, it indicates the episode has terminated and it’s time to reset the environment. \n",
    "\n",
    "\n",
    "* `info` (**dictionary**): diagnostic information useful for debugging. We won't be using this variable in this notebook but it is shown here for completeness.\n",
    "\n",
    "To begin an episode, we need to reset the environment to an initial state. We do this by using the `.reset()` method. "
   ]
  },
  {
   "cell_type": "code",
   "execution_count": 7,
   "metadata": {
    "deletable": false,
    "editable": false
   },
   "outputs": [],
   "source": [
    "# Reset the environment and get the initial state.\n",
    "current_state = env.reset()"
   ]
  },
  {
   "cell_type": "markdown",
   "metadata": {},
   "source": [
    "Once the environment is reset, the agent can start taking actions in the environment by using the `.step()` method. Note that the agent can only take one action per time step. \n",
    "\n",
    "In the cell below you can select different actions and see how the returned values change depending on the action taken. Remember that in this environment the agent has four discrete actions available and we specify them in code by using their corresponding numerical value:\n",
    "\n",
    "```python\n",
    "Do nothing = 0\n",
    "Fire right engine = 1\n",
    "Fire main engine = 2\n",
    "Fire left engine = 3\n",
    "```"
   ]
  },
  {
   "cell_type": "code",
   "execution_count": 10,
   "metadata": {
    "deletable": false
   },
   "outputs": [
    {
     "data": {
      "text/html": [
       "<style  type=\"text/css\" >\n",
       "    #T_825ea714_2aab_11f0_a155_0242ac12002d th {\n",
       "          border: 1px solid grey;\n",
       "          text-align: center;\n",
       "    }    #T_825ea714_2aab_11f0_a155_0242ac12002d tbody td {\n",
       "          border: 1px solid grey;\n",
       "          text-align: center;\n",
       "    }    #T_825ea714_2aab_11f0_a155_0242ac12002drow0_col0 {\n",
       "            background-color :  grey;\n",
       "        }    #T_825ea714_2aab_11f0_a155_0242ac12002drow1_col1 {\n",
       "            background-color :  grey;\n",
       "        }    #T_825ea714_2aab_11f0_a155_0242ac12002drow1_col2 {\n",
       "            background-color :  grey;\n",
       "        }    #T_825ea714_2aab_11f0_a155_0242ac12002drow1_col3 {\n",
       "            background-color :  grey;\n",
       "        }    #T_825ea714_2aab_11f0_a155_0242ac12002drow1_col4 {\n",
       "            background-color :  grey;\n",
       "        }    #T_825ea714_2aab_11f0_a155_0242ac12002drow1_col5 {\n",
       "            background-color :  grey;\n",
       "        }    #T_825ea714_2aab_11f0_a155_0242ac12002drow1_col6 {\n",
       "            background-color :  grey;\n",
       "        }    #T_825ea714_2aab_11f0_a155_0242ac12002drow1_col7 {\n",
       "            background-color :  grey;\n",
       "        }    #T_825ea714_2aab_11f0_a155_0242ac12002drow1_col8 {\n",
       "            background-color :  grey;\n",
       "        }    #T_825ea714_2aab_11f0_a155_0242ac12002drow1_col9 {\n",
       "            background-color :  grey;\n",
       "        }    #T_825ea714_2aab_11f0_a155_0242ac12002drow1_col10 {\n",
       "            background-color :  grey;\n",
       "        }    #T_825ea714_2aab_11f0_a155_0242ac12002drow1_col11 {\n",
       "            background-color :  grey;\n",
       "        }    #T_825ea714_2aab_11f0_a155_0242ac12002drow2_col0 {\n",
       "            background-color :  grey;\n",
       "        }    #T_825ea714_2aab_11f0_a155_0242ac12002drow3_col1 {\n",
       "            background-color :  grey;\n",
       "        }    #T_825ea714_2aab_11f0_a155_0242ac12002drow3_col2 {\n",
       "            background-color :  grey;\n",
       "        }    #T_825ea714_2aab_11f0_a155_0242ac12002drow3_col3 {\n",
       "            background-color :  grey;\n",
       "        }    #T_825ea714_2aab_11f0_a155_0242ac12002drow3_col4 {\n",
       "            background-color :  grey;\n",
       "        }    #T_825ea714_2aab_11f0_a155_0242ac12002drow3_col5 {\n",
       "            background-color :  grey;\n",
       "        }    #T_825ea714_2aab_11f0_a155_0242ac12002drow3_col6 {\n",
       "            background-color :  grey;\n",
       "        }    #T_825ea714_2aab_11f0_a155_0242ac12002drow3_col7 {\n",
       "            background-color :  grey;\n",
       "        }    #T_825ea714_2aab_11f0_a155_0242ac12002drow3_col8 {\n",
       "            background-color :  grey;\n",
       "        }    #T_825ea714_2aab_11f0_a155_0242ac12002drow3_col9 {\n",
       "            background-color :  grey;\n",
       "        }    #T_825ea714_2aab_11f0_a155_0242ac12002drow3_col10 {\n",
       "            background-color :  grey;\n",
       "        }    #T_825ea714_2aab_11f0_a155_0242ac12002drow3_col11 {\n",
       "            background-color :  grey;\n",
       "        }    #T_825ea714_2aab_11f0_a155_0242ac12002drow4_col1 {\n",
       "            background-color :  grey;\n",
       "        }    #T_825ea714_2aab_11f0_a155_0242ac12002drow4_col2 {\n",
       "            background-color :  grey;\n",
       "        }    #T_825ea714_2aab_11f0_a155_0242ac12002drow4_col3 {\n",
       "            background-color :  grey;\n",
       "        }    #T_825ea714_2aab_11f0_a155_0242ac12002drow4_col4 {\n",
       "            background-color :  grey;\n",
       "        }    #T_825ea714_2aab_11f0_a155_0242ac12002drow4_col5 {\n",
       "            background-color :  grey;\n",
       "        }    #T_825ea714_2aab_11f0_a155_0242ac12002drow4_col6 {\n",
       "            background-color :  grey;\n",
       "        }    #T_825ea714_2aab_11f0_a155_0242ac12002drow4_col7 {\n",
       "            background-color :  grey;\n",
       "        }    #T_825ea714_2aab_11f0_a155_0242ac12002drow4_col8 {\n",
       "            background-color :  grey;\n",
       "        }    #T_825ea714_2aab_11f0_a155_0242ac12002drow4_col9 {\n",
       "            background-color :  grey;\n",
       "        }    #T_825ea714_2aab_11f0_a155_0242ac12002drow4_col10 {\n",
       "            background-color :  grey;\n",
       "        }    #T_825ea714_2aab_11f0_a155_0242ac12002drow4_col11 {\n",
       "            background-color :  grey;\n",
       "        }</style><table id=\"T_825ea714_2aab_11f0_a155_0242ac12002d\" ><thead>    <tr>        <th class=\"blank level0\" ></th>        <th class=\"col_heading level0 col0\" ></th>        <th class=\"col_heading level0 col1\" colspan=8>State Vector</th>        <th class=\"col_heading level0 col9\" colspan=3>Derived from the State Vector (the closer to zero, the better)</th>    </tr>    <tr>        <th class=\"blank level1\" ></th>        <th class=\"col_heading level1 col0\" ></th>        <th class=\"col_heading level1 col1\" colspan=2>Coordinate</th>        <th class=\"col_heading level1 col3\" colspan=2>Velocity</th>        <th class=\"col_heading level1 col5\" colspan=2>Tilting</th>        <th class=\"col_heading level1 col7\" colspan=2>Ground contact</th>        <th class=\"col_heading level1 col9\" >Distance from landing pad</th>        <th class=\"col_heading level1 col10\" >Velocity</th>        <th class=\"col_heading level1 col11\" >Tilting Angle (absolute value)</th>    </tr>    <tr>        <th class=\"blank level2\" ></th>        <th class=\"col_heading level2 col0\" ></th>        <th class=\"col_heading level2 col1\" >X (Horizontal)</th>        <th class=\"col_heading level2 col2\" >Y (Vertical)</th>        <th class=\"col_heading level2 col3\" >X (Horizontal)</th>        <th class=\"col_heading level2 col4\" >Y (Vertical)</th>        <th class=\"col_heading level2 col5\" >Angle</th>        <th class=\"col_heading level2 col6\" >Angular Velocity</th>        <th class=\"col_heading level2 col7\" >Left Leg?</th>        <th class=\"col_heading level2 col8\" >Right Leg?</th>        <th class=\"col_heading level2 col9\" ></th>        <th class=\"col_heading level2 col10\" ></th>        <th class=\"col_heading level2 col11\" ></th>    </tr></thead><tbody>\n",
       "                <tr>\n",
       "                        <th id=\"T_825ea714_2aab_11f0_a155_0242ac12002dlevel0_row0\" class=\"row_heading level0 row0\" >Current State</th>\n",
       "                        <td id=\"T_825ea714_2aab_11f0_a155_0242ac12002drow0_col0\" class=\"data row0 col0\" ></td>\n",
       "                        <td id=\"T_825ea714_2aab_11f0_a155_0242ac12002drow0_col1\" class=\"data row0 col1\" >0.005866</td>\n",
       "                        <td id=\"T_825ea714_2aab_11f0_a155_0242ac12002drow0_col2\" class=\"data row0 col2\" >1.444385</td>\n",
       "                        <td id=\"T_825ea714_2aab_11f0_a155_0242ac12002drow0_col3\" class=\"data row0 col3\" >0.204403</td>\n",
       "                        <td id=\"T_825ea714_2aab_11f0_a155_0242ac12002drow0_col4\" class=\"data row0 col4\" >0.501428</td>\n",
       "                        <td id=\"T_825ea714_2aab_11f0_a155_0242ac12002drow0_col5\" class=\"data row0 col5\" >-0.006066</td>\n",
       "                        <td id=\"T_825ea714_2aab_11f0_a155_0242ac12002drow0_col6\" class=\"data row0 col6\" >-0.033452</td>\n",
       "                        <td id=\"T_825ea714_2aab_11f0_a155_0242ac12002drow0_col7\" class=\"data row0 col7\" >False</td>\n",
       "                        <td id=\"T_825ea714_2aab_11f0_a155_0242ac12002drow0_col8\" class=\"data row0 col8\" >False</td>\n",
       "                        <td id=\"T_825ea714_2aab_11f0_a155_0242ac12002drow0_col9\" class=\"data row0 col9\" >1.444397</td>\n",
       "                        <td id=\"T_825ea714_2aab_11f0_a155_0242ac12002drow0_col10\" class=\"data row0 col10\" >0.541489</td>\n",
       "                        <td id=\"T_825ea714_2aab_11f0_a155_0242ac12002drow0_col11\" class=\"data row0 col11\" >0.006066</td>\n",
       "            </tr>\n",
       "            <tr>\n",
       "                        <th id=\"T_825ea714_2aab_11f0_a155_0242ac12002dlevel0_row1\" class=\"row_heading level0 row1\" >Action</th>\n",
       "                        <td id=\"T_825ea714_2aab_11f0_a155_0242ac12002drow1_col0\" class=\"data row1 col0\" >Fire left engine</td>\n",
       "                        <td id=\"T_825ea714_2aab_11f0_a155_0242ac12002drow1_col1\" class=\"data row1 col1\" ></td>\n",
       "                        <td id=\"T_825ea714_2aab_11f0_a155_0242ac12002drow1_col2\" class=\"data row1 col2\" ></td>\n",
       "                        <td id=\"T_825ea714_2aab_11f0_a155_0242ac12002drow1_col3\" class=\"data row1 col3\" ></td>\n",
       "                        <td id=\"T_825ea714_2aab_11f0_a155_0242ac12002drow1_col4\" class=\"data row1 col4\" ></td>\n",
       "                        <td id=\"T_825ea714_2aab_11f0_a155_0242ac12002drow1_col5\" class=\"data row1 col5\" ></td>\n",
       "                        <td id=\"T_825ea714_2aab_11f0_a155_0242ac12002drow1_col6\" class=\"data row1 col6\" ></td>\n",
       "                        <td id=\"T_825ea714_2aab_11f0_a155_0242ac12002drow1_col7\" class=\"data row1 col7\" ></td>\n",
       "                        <td id=\"T_825ea714_2aab_11f0_a155_0242ac12002drow1_col8\" class=\"data row1 col8\" ></td>\n",
       "                        <td id=\"T_825ea714_2aab_11f0_a155_0242ac12002drow1_col9\" class=\"data row1 col9\" ></td>\n",
       "                        <td id=\"T_825ea714_2aab_11f0_a155_0242ac12002drow1_col10\" class=\"data row1 col10\" ></td>\n",
       "                        <td id=\"T_825ea714_2aab_11f0_a155_0242ac12002drow1_col11\" class=\"data row1 col11\" ></td>\n",
       "            </tr>\n",
       "            <tr>\n",
       "                        <th id=\"T_825ea714_2aab_11f0_a155_0242ac12002dlevel0_row2\" class=\"row_heading level0 row2\" >Next State</th>\n",
       "                        <td id=\"T_825ea714_2aab_11f0_a155_0242ac12002drow2_col0\" class=\"data row2 col0\" ></td>\n",
       "                        <td id=\"T_825ea714_2aab_11f0_a155_0242ac12002drow2_col1\" class=\"data row2 col1\" >0.007981</td>\n",
       "                        <td id=\"T_825ea714_2aab_11f0_a155_0242ac12002drow2_col2\" class=\"data row2 col2\" >1.455065</td>\n",
       "                        <td id=\"T_825ea714_2aab_11f0_a155_0242ac12002drow2_col3\" class=\"data row2 col3\" >0.215427</td>\n",
       "                        <td id=\"T_825ea714_2aab_11f0_a155_0242ac12002drow2_col4\" class=\"data row2 col4\" >0.474611</td>\n",
       "                        <td id=\"T_825ea714_2aab_11f0_a155_0242ac12002drow2_col5\" class=\"data row2 col5\" >-0.009948</td>\n",
       "                        <td id=\"T_825ea714_2aab_11f0_a155_0242ac12002drow2_col6\" class=\"data row2 col6\" >-0.077659</td>\n",
       "                        <td id=\"T_825ea714_2aab_11f0_a155_0242ac12002drow2_col7\" class=\"data row2 col7\" >False</td>\n",
       "                        <td id=\"T_825ea714_2aab_11f0_a155_0242ac12002drow2_col8\" class=\"data row2 col8\" >False</td>\n",
       "                        <td id=\"T_825ea714_2aab_11f0_a155_0242ac12002drow2_col9\" class=\"data row2 col9\" >1.455087</td>\n",
       "                        <td id=\"T_825ea714_2aab_11f0_a155_0242ac12002drow2_col10\" class=\"data row2 col10\" >0.521215</td>\n",
       "                        <td id=\"T_825ea714_2aab_11f0_a155_0242ac12002drow2_col11\" class=\"data row2 col11\" >0.009948</td>\n",
       "            </tr>\n",
       "            <tr>\n",
       "                        <th id=\"T_825ea714_2aab_11f0_a155_0242ac12002dlevel0_row3\" class=\"row_heading level0 row3\" >Reward</th>\n",
       "                        <td id=\"T_825ea714_2aab_11f0_a155_0242ac12002drow3_col0\" class=\"data row3 col0\" >0.540259</td>\n",
       "                        <td id=\"T_825ea714_2aab_11f0_a155_0242ac12002drow3_col1\" class=\"data row3 col1\" ></td>\n",
       "                        <td id=\"T_825ea714_2aab_11f0_a155_0242ac12002drow3_col2\" class=\"data row3 col2\" ></td>\n",
       "                        <td id=\"T_825ea714_2aab_11f0_a155_0242ac12002drow3_col3\" class=\"data row3 col3\" ></td>\n",
       "                        <td id=\"T_825ea714_2aab_11f0_a155_0242ac12002drow3_col4\" class=\"data row3 col4\" ></td>\n",
       "                        <td id=\"T_825ea714_2aab_11f0_a155_0242ac12002drow3_col5\" class=\"data row3 col5\" ></td>\n",
       "                        <td id=\"T_825ea714_2aab_11f0_a155_0242ac12002drow3_col6\" class=\"data row3 col6\" ></td>\n",
       "                        <td id=\"T_825ea714_2aab_11f0_a155_0242ac12002drow3_col7\" class=\"data row3 col7\" ></td>\n",
       "                        <td id=\"T_825ea714_2aab_11f0_a155_0242ac12002drow3_col8\" class=\"data row3 col8\" ></td>\n",
       "                        <td id=\"T_825ea714_2aab_11f0_a155_0242ac12002drow3_col9\" class=\"data row3 col9\" ></td>\n",
       "                        <td id=\"T_825ea714_2aab_11f0_a155_0242ac12002drow3_col10\" class=\"data row3 col10\" ></td>\n",
       "                        <td id=\"T_825ea714_2aab_11f0_a155_0242ac12002drow3_col11\" class=\"data row3 col11\" ></td>\n",
       "            </tr>\n",
       "            <tr>\n",
       "                        <th id=\"T_825ea714_2aab_11f0_a155_0242ac12002dlevel0_row4\" class=\"row_heading level0 row4\" >Episode Terminated</th>\n",
       "                        <td id=\"T_825ea714_2aab_11f0_a155_0242ac12002drow4_col0\" class=\"data row4 col0\" >False</td>\n",
       "                        <td id=\"T_825ea714_2aab_11f0_a155_0242ac12002drow4_col1\" class=\"data row4 col1\" ></td>\n",
       "                        <td id=\"T_825ea714_2aab_11f0_a155_0242ac12002drow4_col2\" class=\"data row4 col2\" ></td>\n",
       "                        <td id=\"T_825ea714_2aab_11f0_a155_0242ac12002drow4_col3\" class=\"data row4 col3\" ></td>\n",
       "                        <td id=\"T_825ea714_2aab_11f0_a155_0242ac12002drow4_col4\" class=\"data row4 col4\" ></td>\n",
       "                        <td id=\"T_825ea714_2aab_11f0_a155_0242ac12002drow4_col5\" class=\"data row4 col5\" ></td>\n",
       "                        <td id=\"T_825ea714_2aab_11f0_a155_0242ac12002drow4_col6\" class=\"data row4 col6\" ></td>\n",
       "                        <td id=\"T_825ea714_2aab_11f0_a155_0242ac12002drow4_col7\" class=\"data row4 col7\" ></td>\n",
       "                        <td id=\"T_825ea714_2aab_11f0_a155_0242ac12002drow4_col8\" class=\"data row4 col8\" ></td>\n",
       "                        <td id=\"T_825ea714_2aab_11f0_a155_0242ac12002drow4_col9\" class=\"data row4 col9\" ></td>\n",
       "                        <td id=\"T_825ea714_2aab_11f0_a155_0242ac12002drow4_col10\" class=\"data row4 col10\" ></td>\n",
       "                        <td id=\"T_825ea714_2aab_11f0_a155_0242ac12002drow4_col11\" class=\"data row4 col11\" ></td>\n",
       "            </tr>\n",
       "    </tbody></table>"
      ],
      "text/plain": [
       "<pandas.io.formats.style.Styler at 0x7c78af0dd050>"
      ]
     },
     "metadata": {},
     "output_type": "display_data"
    }
   ],
   "source": [
    "# Select an action\n",
    "action = 3\n",
    "\n",
    "# Run a single time step of the environment's dynamics with the given action.\n",
    "next_state, reward, done, _ = env.step(action)\n",
    "\n",
    "# Display table with values.\n",
    "utils.display_table(current_state, action, next_state, reward, done)\n",
    "\n",
    "# Replace the `current_state` with the state after the action is taken\n",
    "current_state = next_state"
   ]
  },
  {
   "cell_type": "markdown",
   "metadata": {},
   "source": [
    "In practice, when we train the agent we use a loop to allow the agent to take many consecutive actions during an episode."
   ]
  },
  {
   "cell_type": "markdown",
   "metadata": {},
   "source": [
    "<a name=\"6\"></a>\n",
    "## 6 - Deep Q-Learning\n",
    "\n",
    "In cases where both the state and action space are discrete we can estimate the action-value function iteratively by using the Bellman equation:\n",
    "\n",
    "$$\n",
    "Q_{i+1}(s,a) = R + \\gamma \\max_{a'}Q_i(s',a')\n",
    "$$\n",
    "\n",
    "This iterative method converges to the optimal action-value function $Q^*(s,a)$ as $i\\to\\infty$. This means that the agent just needs to gradually explore the state-action space and keep updating the estimate of $Q(s,a)$ until it converges to the optimal action-value function $Q^*(s,a)$. However, in cases where the state space is continuous it becomes practically impossible to explore the entire state-action space. Consequently, this also makes it practically impossible to gradually estimate $Q(s,a)$ until it converges to $Q^*(s,a)$.\n",
    "\n",
    "In the Deep $Q$-Learning, we solve this problem by using a neural network to estimate the action-value function $Q(s,a)\\approx Q^*(s,a)$. We call this neural network a $Q$-Network and it can be trained by adjusting its weights at each iteration to minimize the mean-squared error in the Bellman equation.\n",
    "\n",
    "Unfortunately, using neural networks in reinforcement learning to estimate action-value functions has proven to be highly unstable. Luckily, there's a couple of techniques that can be employed to avoid instabilities. These techniques consist of using a ***Target Network*** and ***Experience Replay***. We will explore these two techniques in the following sections."
   ]
  },
  {
   "cell_type": "markdown",
   "metadata": {},
   "source": [
    "<a name=\"6.1\"></a>\n",
    "### 6.1 Target Network\n",
    "\n",
    "We can train the $Q$-Network by adjusting it's weights at each iteration to minimize the mean-squared error in the Bellman equation, where the target values are given by:\n",
    "\n",
    "$$\n",
    "y = R + \\gamma \\max_{a'}Q(s',a';w)\n",
    "$$\n",
    "\n",
    "where $w$ are the weights of the $Q$-Network. This means that we are adjusting the weights $w$ at each iteration to minimize the following error:\n",
    "\n",
    "$$\n",
    "\\overbrace{\\underbrace{R + \\gamma \\max_{a'}Q(s',a'; w)}_{\\rm {y~target}} - Q(s,a;w)}^{\\rm {Error}}\n",
    "$$\n",
    "\n",
    "Notice that this forms a problem because the $y$ target is changing on every iteration. Having a constantly moving target can lead to oscillations and instabilities. To avoid this, we can create\n",
    "a separate neural network for generating the $y$ targets. We call this separate neural network the **target $\\hat Q$-Network** and it will have the same architecture as the original $Q$-Network. By using the target $\\hat Q$-Network, the above error becomes:\n",
    "\n",
    "$$\n",
    "\\overbrace{\\underbrace{R + \\gamma \\max_{a'}\\hat{Q}(s',a'; w^-)}_{\\rm {y~target}} - Q(s,a;w)}^{\\rm {Error}}\n",
    "$$\n",
    "\n",
    "where $w^-$ and $w$ are the weights of the target $\\hat Q$-Network and $Q$-Network, respectively.\n",
    "\n",
    "In practice, we will use the following algorithm: every $C$ time steps we will use the $\\hat Q$-Network to generate the $y$ targets and update the weights of the target $\\hat Q$-Network using the weights of the $Q$-Network. We will update the weights $w^-$ of the the target $\\hat Q$-Network using a **soft update**. This means that we will update the weights $w^-$ using the following rule:\n",
    " \n",
    "$$\n",
    "w^-\\leftarrow \\tau w + (1 - \\tau) w^-\n",
    "$$\n",
    "\n",
    "where $\\tau\\ll 1$. By using the soft update, we are ensuring that the target values, $y$, change slowly, which greatly improves the stability of our learning algorithm."
   ]
  },
  {
   "cell_type": "markdown",
   "metadata": {},
   "source": [
    "<a name=\"ex01\"></a>\n",
    "### Exercise 1\n",
    "\n",
    "In this exercise you will create the $Q$ and target $\\hat Q$ networks and set the optimizer. Remember that the Deep $Q$-Network (DQN) is a neural network that approximates the action-value function $Q(s,a)\\approx Q^*(s,a)$. It does this by learning how to map states to $Q$ values.\n",
    "\n",
    "To solve the Lunar Lander environment, we are going to employ a DQN with the following architecture:\n",
    "\n",
    "* An `Input` layer that takes `state_size` as input.\n",
    "\n",
    "* A `Dense` layer with `64` units and a `relu` activation function.\n",
    "\n",
    "* A `Dense` layer with `64` units and a `relu` activation function.\n",
    "\n",
    "* A `Dense` layer with `num_actions` units and a `linear` activation function. This will be the output layer of our network.\n",
    "\n",
    "\n",
    "In the cell below you should create the $Q$-Network and the target $\\hat Q$-Network using the model architecture described above. Remember that both the $Q$-Network and the target $\\hat Q$-Network have the same architecture.\n",
    "\n",
    "Lastly, you should set `Adam` as the optimizer with a learning rate equal to `ALPHA`. Recall that `ALPHA` was defined in the [Hyperparameters](#2) section. We should note that for this exercise you should use the already imported packages:\n",
    "```python\n",
    "from tensorflow.keras.layers import Dense, Input\n",
    "from tensorflow.keras.optimizers import Adam\n",
    "```"
   ]
  },
  {
   "cell_type": "code",
   "execution_count": 14,
   "metadata": {
    "deletable": false
   },
   "outputs": [],
   "source": [
    "# UNQ_C1\n",
    "# GRADED CELL\n",
    "\n",
    "# Create the Q-Network\n",
    "q_network = Sequential([\n",
    "    ### START CODE HERE ### \n",
    "    Input(shape=state_size),\n",
    "    Dense(units=64, activation='relu'),\n",
    "    Dense(units=64, activation='relu'),\n",
    "    Dense(units=num_actions, activation='linear')\n",
    "    ### END CODE HERE ### \n",
    "    ])\n",
    "\n",
    "# Create the target Q^-Network\n",
    "target_q_network = Sequential([\n",
    "    ### START CODE HERE ### \n",
    "    Input(shape=state_size),\n",
    "    Dense(units=64, activation='relu'),\n",
    "    Dense(units=64, activation='relu'),\n",
    "    Dense(units=num_actions, activation='linear')\n",
    "    ### END CODE HERE ###\n",
    "    ])\n",
    "\n",
    "### START CODE HERE ### \n",
    "optimizer = Adam(learning_rate=ALPHA)\n",
    "### END CODE HERE ###"
   ]
  },
  {
   "cell_type": "code",
   "execution_count": 15,
   "metadata": {
    "deletable": false,
    "editable": false
   },
   "outputs": [
    {
     "name": "stdout",
     "output_type": "stream",
     "text": [
      "\u001b[92mAll tests passed!\n",
      "\u001b[92mAll tests passed!\n",
      "\u001b[92mAll tests passed!\n"
     ]
    }
   ],
   "source": [
    "# UNIT TEST\n",
    "from public_tests import *\n",
    "\n",
    "test_network(q_network)\n",
    "test_network(target_q_network)\n",
    "test_optimizer(optimizer, ALPHA) "
   ]
  },
  {
   "cell_type": "markdown",
   "metadata": {},
   "source": [
    "<details>\n",
    "  <summary><font size=\"3\" color=\"darkgreen\"><b>Click for hints</b></font></summary>\n",
    "    \n",
    "```python\n",
    "# Create the Q-Network\n",
    "q_network = Sequential([\n",
    "    Input(shape=state_size),                      \n",
    "    Dense(units=64, activation='relu'),            \n",
    "    Dense(units=64, activation='relu'),            \n",
    "    Dense(units=num_actions, activation='linear'),\n",
    "    ])\n",
    "\n",
    "# Create the target Q^-Network\n",
    "target_q_network = Sequential([\n",
    "    Input(shape=state_size),                       \n",
    "    Dense(units=64, activation='relu'),            \n",
    "    Dense(units=64, activation='relu'),            \n",
    "    Dense(units=num_actions, activation='linear'), \n",
    "    ])\n",
    "\n",
    "optimizer = Adam(learning_rate=ALPHA)                                  \n",
    "``` "
   ]
  },
  {
   "cell_type": "markdown",
   "metadata": {},
   "source": [
    "<a name=\"6.2\"></a>\n",
    "### 6.2 Experience Replay\n",
    "\n",
    "When an agent interacts with the environment, the states, actions, and rewards the agent experiences are sequential by nature. If the agent tries to learn from these consecutive experiences it can run into problems due to the strong correlations between them. To avoid this, we employ a technique known as **Experience Replay** to generate uncorrelated experiences for training our agent. Experience replay consists of storing the agent's experiences (i.e the states, actions, and rewards the agent receives) in a memory buffer and then sampling a random mini-batch of experiences from the buffer to do the learning. The experience tuples $(S_t, A_t, R_t, S_{t+1})$ will be added to the memory buffer at each time step as the agent interacts with the environment.\n",
    "\n",
    "For convenience, we will store the experiences as named tuples."
   ]
  },
  {
   "cell_type": "code",
   "execution_count": 16,
   "metadata": {
    "deletable": false,
    "editable": false
   },
   "outputs": [],
   "source": [
    "# Store experiences as named tuples\n",
    "experience = namedtuple(\"Experience\", field_names=[\"state\", \"action\", \"reward\", \"next_state\", \"done\"])"
   ]
  },
  {
   "cell_type": "markdown",
   "metadata": {},
   "source": [
    "By using experience replay we avoid problematic correlations, oscillations and instabilities. In addition, experience replay also allows the agent to potentially use the same experience in multiple weight updates, which increases data efficiency."
   ]
  },
  {
   "cell_type": "markdown",
   "metadata": {},
   "source": [
    "<a name=\"7\"></a>\n",
    "## 7 - Deep Q-Learning Algorithm with Experience Replay\n",
    "\n",
    "Now that we know all the techniques that we are going to use, we can put them together to arrive at the Deep Q-Learning Algorithm With Experience Replay.\n",
    "<br>\n",
    "<br>\n",
    "<figure>\n",
    "  <img src = \"images/deep_q_algorithm.png\" width = 90% style = \"border: thin silver solid; padding: 0px\">\n",
    "      <figcaption style = \"text-align: center; font-style: italic\">Fig 3. Deep Q-Learning with Experience Replay.</figcaption>\n",
    "</figure>"
   ]
  },
  {
   "cell_type": "markdown",
   "metadata": {},
   "source": [
    "<a name=\"ex02\"></a>\n",
    "### Exercise 2\n",
    "\n",
    "In this exercise you will implement line ***12*** of the algorithm outlined in *Fig 3* above and you will also compute the loss between the $y$ targets and the $Q(s,a)$ values. In the cell below, complete the `compute_loss` function by setting the $y$ targets equal to:\n",
    "\n",
    "$$\n",
    "\\begin{equation}\n",
    "    y_j =\n",
    "    \\begin{cases}\n",
    "      R_j & \\text{if episode terminates at step  } j+1\\\\\n",
    "      R_j + \\gamma \\max_{a'}\\hat{Q}(s_{j+1},a') & \\text{otherwise}\\\\\n",
    "    \\end{cases}       \n",
    "\\end{equation}\n",
    "$$\n",
    "\n",
    "Here are a couple of things to note:\n",
    "\n",
    "* The `compute_loss` function takes in a mini-batch of experience tuples. This mini-batch of experience tuples is unpacked to extract the `states`, `actions`, `rewards`, `next_states`, and `done_vals`. You should keep in mind that these variables are *TensorFlow Tensors* whose size will depend on the mini-batch size. For example, if the mini-batch size is `64` then both `rewards` and `done_vals` will be TensorFlow Tensors with `64` elements.\n",
    "\n",
    "\n",
    "* Using `if/else` statements to set the $y$ targets will not work when the variables are tensors with many elements. However, notice that you can use the `done_vals` to implement the above in a single line of code. To do this, recall that the `done` variable is a Boolean variable that takes the value `True` when an episode terminates at step $j+1$ and it is `False` otherwise. Taking into account that a Boolean value of `True` has the numerical value of `1` and a Boolean value of `False` has the numerical value of `0`, you can use the factor `(1 - done_vals)` to implement the above in a single line of code. Here's a hint: notice that `(1 - done_vals)` has a value of `0` when `done_vals` is `True` and a value of `1` when `done_vals` is `False`. \n",
    "\n",
    "Lastly, compute the loss by calculating the Mean-Squared Error (`MSE`) between the `y_targets` and the `q_values`. To calculate the mean-squared error you should use the already imported package `MSE`:\n",
    "```python\n",
    "from tensorflow.keras.losses import MSE\n",
    "```"
   ]
  },
  {
   "cell_type": "code",
   "execution_count": 17,
   "metadata": {
    "deletable": false
   },
   "outputs": [],
   "source": [
    "# UNQ_C2\n",
    "# GRADED FUNCTION: calculate_loss\n",
    "\n",
    "def compute_loss(experiences, gamma, q_network, target_q_network):\n",
    "    \"\"\" \n",
    "    Calculates the loss.\n",
    "    \n",
    "    Args:\n",
    "      experiences: (tuple) tuple of [\"state\", \"action\", \"reward\", \"next_state\", \"done\"] namedtuples\n",
    "      gamma: (float) The discount factor.\n",
    "      q_network: (tf.keras.Sequential) Keras model for predicting the q_values\n",
    "      target_q_network: (tf.keras.Sequential) Keras model for predicting the targets\n",
    "          \n",
    "    Returns:\n",
    "      loss: (TensorFlow Tensor(shape=(0,), dtype=int32)) the Mean-Squared Error between\n",
    "            the y targets and the Q(s,a) values.\n",
    "    \"\"\"\n",
    "\n",
    "    # Unpack the mini-batch of experience tuples\n",
    "    states, actions, rewards, next_states, done_vals = experiences\n",
    "    \n",
    "    # Compute max Q^(s,a)\n",
    "    max_qsa = tf.reduce_max(target_q_network(next_states), axis=-1)\n",
    "    \n",
    "    # Set y = R if episode terminates, otherwise set y = R + γ max Q^(s,a).\n",
    "    ### START CODE HERE ### \n",
    "    y_targets = rewards + (gamma * max_qsa * (1 - done_vals))\n",
    "    ### END CODE HERE ###\n",
    "    \n",
    "    # Get the q_values and reshape to match y_targets\n",
    "    q_values = q_network(states)\n",
    "    q_values = tf.gather_nd(q_values, tf.stack([tf.range(q_values.shape[0]),\n",
    "                                                tf.cast(actions, tf.int32)], axis=1))\n",
    "        \n",
    "    # Compute the loss\n",
    "    ### START CODE HERE ### \n",
    "    loss = MSE(y_targets, q_values) \n",
    "    ### END CODE HERE ### \n",
    "    \n",
    "    return loss"
   ]
  },
  {
   "cell_type": "code",
   "execution_count": 18,
   "metadata": {
    "deletable": false,
    "editable": false
   },
   "outputs": [
    {
     "name": "stdout",
     "output_type": "stream",
     "text": [
      "\u001b[92mAll tests passed!\n"
     ]
    }
   ],
   "source": [
    "# UNIT TEST    \n",
    "test_compute_loss(compute_loss)"
   ]
  },
  {
   "cell_type": "markdown",
   "metadata": {},
   "source": [
    "<details>\n",
    "  <summary><font size=\"3\" color=\"darkgreen\"><b>Click for hints</b></font></summary>\n",
    "    \n",
    "```python\n",
    "def compute_loss(experiences, gamma, q_network, target_q_network):\n",
    "    \"\"\" \n",
    "    Calculates the loss.\n",
    "    \n",
    "    Args:\n",
    "      experiences: (tuple) tuple of [\"state\", \"action\", \"reward\", \"next_state\", \"done\"] namedtuples\n",
    "      gamma: (float) The discount factor.\n",
    "      q_network: (tf.keras.Sequential) Keras model for predicting the q_values\n",
    "      target_q_network: (tf.keras.Sequential) Keras model for predicting the targets\n",
    "          \n",
    "    Returns:\n",
    "      loss: (TensorFlow Tensor(shape=(0,), dtype=int32)) the Mean-Squared Error between\n",
    "            the y targets and the Q(s,a) values.\n",
    "    \"\"\"\n",
    "\n",
    "    \n",
    "    # Unpack the mini-batch of experience tuples\n",
    "    states, actions, rewards, next_states, done_vals = experiences\n",
    "    \n",
    "    # Compute max Q^(s,a)\n",
    "    max_qsa = tf.reduce_max(target_q_network(next_states), axis=-1)\n",
    "    \n",
    "    # Set y = R if episode terminates, otherwise set y = R + γ max Q^(s,a).\n",
    "    y_targets = rewards + (gamma * max_qsa * (1 - done_vals))\n",
    "    \n",
    "    # Get the q_values\n",
    "    q_values = q_network(states)\n",
    "    q_values = tf.gather_nd(q_values, tf.stack([tf.range(q_values.shape[0]),\n",
    "                                                tf.cast(actions, tf.int32)], axis=1))\n",
    "    \n",
    "    # Calculate the loss\n",
    "    loss = MSE(y_targets, q_values)\n",
    "    \n",
    "    return loss\n",
    "\n",
    "``` \n",
    "    "
   ]
  },
  {
   "cell_type": "markdown",
   "metadata": {},
   "source": [
    "<a name=\"8\"></a>\n",
    "## 8 - Update the Network Weights\n",
    "\n",
    "We will use the `agent_learn` function below to implement lines ***12 -14*** of the algorithm outlined in [Fig 3](#7). The `agent_learn` function will update the weights of the $Q$ and target $\\hat Q$ networks using a custom training loop. Because we are using a custom training loop we need to retrieve the gradients via a `tf.GradientTape` instance, and then call `optimizer.apply_gradients()` to update the weights of our $Q$-Network. Note that we are also using the `@tf.function` decorator to increase performance. Without this decorator our training will take twice as long. If you would like to know more about how to increase performance with `@tf.function` take a look at the [TensorFlow documentation](https://www.tensorflow.org/guide/function).\n",
    "\n",
    "The last line of this function updates the weights of the target $\\hat Q$-Network using a [soft update](#6.1). If you want to know how this is implemented in code we encourage you to take a look at the `utils.update_target_network` function in the `utils` module."
   ]
  },
  {
   "cell_type": "code",
   "execution_count": 19,
   "metadata": {
    "deletable": false,
    "editable": false
   },
   "outputs": [],
   "source": [
    "@tf.function\n",
    "def agent_learn(experiences, gamma):\n",
    "    \"\"\"\n",
    "    Updates the weights of the Q networks.\n",
    "    \n",
    "    Args:\n",
    "      experiences: (tuple) tuple of [\"state\", \"action\", \"reward\", \"next_state\", \"done\"] namedtuples\n",
    "      gamma: (float) The discount factor.\n",
    "    \n",
    "    \"\"\"\n",
    "    \n",
    "    # Calculate the loss\n",
    "    with tf.GradientTape() as tape:\n",
    "        loss = compute_loss(experiences, gamma, q_network, target_q_network)\n",
    "\n",
    "    # Get the gradients of the loss with respect to the weights.\n",
    "    gradients = tape.gradient(loss, q_network.trainable_variables)\n",
    "    \n",
    "    # Update the weights of the q_network.\n",
    "    optimizer.apply_gradients(zip(gradients, q_network.trainable_variables))\n",
    "\n",
    "    # update the weights of target q_network\n",
    "    utils.update_target_network(q_network, target_q_network)"
   ]
  },
  {
   "cell_type": "markdown",
   "metadata": {},
   "source": [
    "<a name=\"9\"></a>\n",
    "## 9 - Train the Agent\n",
    "\n",
    "We are now ready to train our agent to solve the Lunar Lander environment. In the cell below we will implement the algorithm in [Fig 3](#7) line by line (please note that we have included the same algorithm below for easy reference. This will prevent you from scrolling up and down the notebook):\n",
    "\n",
    "* **Line 1**: We initialize the `memory_buffer` with a capacity of $N =$ `MEMORY_SIZE`. Notice that we are using a `deque` as the data structure for our `memory_buffer`.\n",
    "\n",
    "\n",
    "* **Line 2**: We skip this line since we already initialized the `q_network` in [Exercise 1](#ex01).\n",
    "\n",
    "\n",
    "* **Line 3**: We initialize the `target_q_network` by setting its weights to be equal to those of the `q_network`.\n",
    "\n",
    "\n",
    "* **Line 4**: We start the outer loop. Notice that we have set $M =$ `num_episodes = 2000`. This number is reasonable because the agent should be able to solve the Lunar Lander environment in less than `2000` episodes using this notebook's default parameters.\n",
    "\n",
    "\n",
    "* **Line 5**: We use the `.reset()` method to reset the environment to the initial state and get the initial state.\n",
    "\n",
    "\n",
    "* **Line 6**: We start the inner loop. Notice that we have set $T =$ `max_num_timesteps = 1000`. This means that the episode will automatically terminate if the episode hasn't terminated after `1000` time steps.\n",
    "\n",
    "\n",
    "* **Line 7**: The agent observes the current `state` and chooses an `action` using an $\\epsilon$-greedy policy. Our agent starts out using a value of $\\epsilon =$ `epsilon = 1` which yields an $\\epsilon$-greedy policy that is equivalent to the equiprobable random policy. This means that at the beginning of our training, the agent is just going to take random actions regardless of the observed `state`. As training progresses we will decrease the value of $\\epsilon$ slowly towards a minimum value using a given $\\epsilon$-decay rate. We want this minimum value to be close to zero because a value of $\\epsilon = 0$ will yield an $\\epsilon$-greedy policy that is equivalent to the greedy policy. This means that towards the end of training, the agent will lean towards selecting the `action` that it believes (based on its past experiences) will maximize $Q(s,a)$. We will set the minimum $\\epsilon$ value to be `0.01` and not exactly 0 because we always want to keep a little bit of exploration during training. If you want to know how this is implemented in code we encourage you to take a look at the `utils.get_action` function in the `utils` module.\n",
    "\n",
    "\n",
    "* **Line 8**: We use the `.step()` method to take the given `action` in the environment and get the `reward` and the `next_state`. \n",
    "\n",
    "\n",
    "* **Line 9**: We store the `experience(state, action, reward, next_state, done)` tuple in our `memory_buffer`. Notice that we also store the `done` variable so that we can keep track of when an episode terminates. This allowed us to set the $y$ targets in [Exercise 2](#ex02).\n",
    "\n",
    "\n",
    "* **Line 10**: We check if the conditions are met to perform a learning update. We do this by using our custom `utils.check_update_conditions` function. This function checks if $C =$ `NUM_STEPS_FOR_UPDATE = 4` time steps have occured and if our `memory_buffer` has enough experience tuples to fill a mini-batch. For example, if the mini-batch size is `64`, then our `memory_buffer` should have more than `64` experience tuples in order to pass the latter condition. If the conditions are met, then the `utils.check_update_conditions` function will return a value of `True`, otherwise it will return a value of `False`.\n",
    "\n",
    "\n",
    "* **Lines 11 - 14**: If the `update` variable is `True` then we perform a learning update. The learning update consists of sampling a random mini-batch of experience tuples from our `memory_buffer`, setting the $y$ targets, performing gradient descent, and updating the weights of the networks. We will use the `agent_learn` function we defined in [Section 8](#8) to perform the latter 3.\n",
    "\n",
    "\n",
    "* **Line 15**: At the end of each iteration of the inner loop we set `next_state` as our new `state` so that the loop can start again from this new state. In addition, we check if the episode has reached a terminal state (i.e we check if `done = True`). If a terminal state has been reached, then we break out of the inner loop.\n",
    "\n",
    "\n",
    "* **Line 16**: At the end of each iteration of the outer loop we update the value of $\\epsilon$, and check if the environment has been solved. We consider that the environment has been solved if the agent receives an average of `200` points in the last `100` episodes. If the environment has not been solved we continue the outer loop and start a new episode.\n",
    "\n",
    "Finally, we wanted to note that we have included some extra variables to keep track of the total number of points the agent received in each episode. This will help us determine if the agent has solved the environment and it will also allow us to see how our agent performed during training. We also use the `time` module to measure how long the training takes. \n",
    "\n",
    "<br>\n",
    "<br>\n",
    "<figure>\n",
    "  <img src = \"images/deep_q_algorithm.png\" width = 90% style = \"border: thin silver solid; padding: 0px\">\n",
    "      <figcaption style = \"text-align: center; font-style: italic\">Fig 4. Deep Q-Learning with Experience Replay.</figcaption>\n",
    "</figure>\n",
    "<br>\n",
    "\n",
    "**Note:** With this notebook's default parameters, the following cell takes between 10 to 15 minutes to run. "
   ]
  },
  {
   "cell_type": "code",
   "execution_count": 20,
   "metadata": {
    "deletable": false,
    "editable": false
   },
   "outputs": [
    {
     "name": "stdout",
     "output_type": "stream",
     "text": [
      "Episode 100 | Total point average of the last 100 episodes: -147.39\n",
      "Episode 200 | Total point average of the last 100 episodes: -113.00\n",
      "Episode 300 | Total point average of the last 100 episodes: -54.380\n",
      "Episode 400 | Total point average of the last 100 episodes: 96.487\n",
      "Episode 488 | Total point average of the last 100 episodes: 201.67\n",
      "\n",
      "Environment solved in 488 episodes!\n",
      "\n",
      "Total Runtime: 613.85 s (10.23 min)\n"
     ]
    }
   ],
   "source": [
    "start = time.time()\n",
    "\n",
    "num_episodes = 2000\n",
    "max_num_timesteps = 1000\n",
    "\n",
    "total_point_history = []\n",
    "\n",
    "num_p_av = 100    # number of total points to use for averaging\n",
    "epsilon = 1.0     # initial ε value for ε-greedy policy\n",
    "\n",
    "# Create a memory buffer D with capacity N\n",
    "memory_buffer = deque(maxlen=MEMORY_SIZE)\n",
    "\n",
    "# Set the target network weights equal to the Q-Network weights\n",
    "target_q_network.set_weights(q_network.get_weights())\n",
    "\n",
    "for i in range(num_episodes):\n",
    "    \n",
    "    # Reset the environment to the initial state and get the initial state\n",
    "    state = env.reset()\n",
    "    total_points = 0\n",
    "    \n",
    "    for t in range(max_num_timesteps):\n",
    "        \n",
    "        # From the current state S choose an action A using an ε-greedy policy\n",
    "        state_qn = np.expand_dims(state, axis=0)  # state needs to be the right shape for the q_network\n",
    "        q_values = q_network(state_qn)\n",
    "        action = utils.get_action(q_values, epsilon)\n",
    "        \n",
    "        # Take action A and receive reward R and the next state S'\n",
    "        next_state, reward, done, _ = env.step(action)\n",
    "        \n",
    "        # Store experience tuple (S,A,R,S') in the memory buffer.\n",
    "        # We store the done variable as well for convenience.\n",
    "        memory_buffer.append(experience(state, action, reward, next_state, done))\n",
    "        \n",
    "        # Only update the network every NUM_STEPS_FOR_UPDATE time steps.\n",
    "        update = utils.check_update_conditions(t, NUM_STEPS_FOR_UPDATE, memory_buffer)\n",
    "        \n",
    "        if update:\n",
    "            # Sample random mini-batch of experience tuples (S,A,R,S') from D\n",
    "            experiences = utils.get_experiences(memory_buffer)\n",
    "            \n",
    "            # Set the y targets, perform a gradient descent step,\n",
    "            # and update the network weights.\n",
    "            agent_learn(experiences, GAMMA)\n",
    "        \n",
    "        state = next_state.copy()\n",
    "        total_points += reward\n",
    "        \n",
    "        if done:\n",
    "            break\n",
    "            \n",
    "    total_point_history.append(total_points)\n",
    "    av_latest_points = np.mean(total_point_history[-num_p_av:])\n",
    "    \n",
    "    # Update the ε value\n",
    "    epsilon = utils.get_new_eps(epsilon)\n",
    "\n",
    "    print(f\"\\rEpisode {i+1} | Total point average of the last {num_p_av} episodes: {av_latest_points:.2f}\", end=\"\")\n",
    "\n",
    "    if (i+1) % num_p_av == 0:\n",
    "        print(f\"\\rEpisode {i+1} | Total point average of the last {num_p_av} episodes: {av_latest_points:.2f}\")\n",
    "\n",
    "    # We will consider that the environment is solved if we get an\n",
    "    # average of 200 points in the last 100 episodes.\n",
    "    if av_latest_points >= 200.0:\n",
    "        print(f\"\\n\\nEnvironment solved in {i+1} episodes!\")\n",
    "        q_network.save('lunar_lander_model.h5')\n",
    "        break\n",
    "        \n",
    "tot_time = time.time() - start\n",
    "\n",
    "print(f\"\\nTotal Runtime: {tot_time:.2f} s ({(tot_time/60):.2f} min)\")"
   ]
  },
  {
   "cell_type": "markdown",
   "metadata": {},
   "source": [
    "We can plot the total point history along with the moving average to see how our agent improved during training. If you want to know about the different plotting options available in the `utils.plot_history` function we encourage you to take a look at the `utils` module."
   ]
  },
  {
   "cell_type": "code",
   "execution_count": 21,
   "metadata": {
    "deletable": false,
    "editable": false,
    "id": "E_EUXxurfe8m",
    "scrolled": false
   },
   "outputs": [
    {
     "data": {
      "image/png": "[encoded data removed]",
      "text/plain": [
       "<Figure size 720x504 with 1 Axes>"
      ]
     },
     "metadata": {},
     "output_type": "display_data"
    }
   ],
   "source": [
    "# Plot the total point history along with the moving average\n",
    "utils.plot_history(total_point_history)"
   ]
  },
  {
   "cell_type": "markdown",
   "metadata": {
    "id": "c_xwgaX5MnYt"
   },
   "source": [
    "<a name=\"10\"></a>\n",
    "## 10 - See the Trained Agent In Action\n",
    "\n",
    "Now that we have trained our agent, we can see it in action. We will use the `utils.create_video` function to create a video of our agent interacting with the environment using the trained $Q$-Network. The `utils.create_video` function uses the `imageio` library to create the video. This library produces some warnings that can be distracting, so, to suppress these warnings we run the code below."
   ]
  },
  {
   "cell_type": "code",
   "execution_count": 22,
   "metadata": {
    "deletable": false,
    "editable": false
   },
   "outputs": [],
   "source": [
    "# Suppress warnings from imageio\n",
    "import logging\n",
    "logging.getLogger().setLevel(logging.ERROR)"
   ]
  },
  {
   "cell_type": "markdown",
   "metadata": {},
   "source": [
    "In the cell below we create a video of our agent interacting with the Lunar Lander environment using the trained `q_network`. The video is saved to the `videos` folder with the given `filename`. We use the `utils.embed_mp4` function to embed the video in the Jupyter Notebook so that we can see it here directly without having to download it.\n",
    "\n",
    "We should note that since the lunar lander starts with a random initial force applied to its center of mass, every time you run the cell below you will see a different video. If the agent was trained properly, it should be able to land the lunar lander in the landing pad every time, regardless of the initial force applied to its center of mass."
   ]
  },
  {
   "cell_type": "code",
   "execution_count": 34,
   "metadata": {
    "deletable": false,
    "editable": false,
    "id": "3Ttb_zLeJKiG"
   },
   "outputs": [
    {
     "data": {
      "text/html": [
       "\n",
       "    <video width=\"840\" height=\"480\" controls>\n",
       "    <source src=\"data:video/mp4;base64,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\" type=\"video/mp4\">\n",
       "    Your browser does not support the video tag.\n",
       "    </video>"
      ],
      "text/plain": [
       "<IPython.core.display.HTML object>"
      ]
     },
     "execution_count": 34,
     "metadata": {},
     "output_type": "execute_result"
    }
   ],
   "source": [
    "filename = \"./videos/lunar_lander.mp4\"\n",
    "\n",
    "utils.create_video(filename, env, q_network)\n",
    "utils.embed_mp4(filename)"
   ]
  },
  {
   "cell_type": "markdown",
   "metadata": {},
   "source": [
    "<a name=\"11\"></a>\n",
    "## 11 - Congratulations!\n",
    "\n",
    "You have successfully used Deep Q-Learning with Experience Replay to train an agent to land a lunar lander safely on a landing pad on the surface of the moon. Congratulations!"
   ]
  },
  {
   "cell_type": "markdown",
   "metadata": {},
   "source": [
    "<a name=\"12\"></a>\n",
    "## 12 - References\n",
    "\n",
    "If you would like to learn more about Deep Q-Learning, we recommend you check out the following papers.\n",
    "\n",
    "\n",
    "* Mnih, V., Kavukcuoglu, K., Silver, D. et al. Human-level control through deep reinforcement learning. Nature 518, 529–533 (2015).\n",
    "\n",
    "\n",
    "* Lillicrap, T. P., Hunt, J. J., Pritzel, A., et al. Continuous Control with Deep Reinforcement Learning. ICLR (2016).\n",
    "\n",
    "\n",
    "* Mnih, V., Kavukcuoglu, K., Silver, D. et al. Playing Atari with Deep Reinforcement Learning. arXiv e-prints.  arXiv:1312.5602 (2013)."
   ]
  },
  {
   "cell_type": "markdown",
   "metadata": {},
   "source": [
    "<details>\n",
    "  <summary><font size=\"2\" color=\"darkgreen\"><b>Please click here if you want to experiment with any of the non-graded code.</b></font></summary>\n",
    "    <p><i><b>Important Note: Please only do this when you've already passed the assignment to avoid problems with the autograder.</b></i>\n",
    "    <ol>\n",
    "        <li> On the notebook’s menu, click “View” > “Cell Toolbar” > “Edit Metadata”</li>\n",
    "        <li> Hit the “Edit Metadata” button next to the code cell which you want to lock/unlock</li>\n",
    "        <li> Set the attribute value for “editable” to:\n",
    "            <ul>\n",
    "                <li> “true” if you want to unlock it </li>\n",
    "                <li> “false” if you want to lock it </li>\n",
    "            </ul>\n",
    "        </li>\n",
    "        <li> On the notebook’s menu, click “View” > “Cell Toolbar” > “None” </li>\n",
    "    </ol>\n",
    "    <p> Here's a short demo of how to do the steps above: \n",
    "        <br>\n",
    "        <img src=\"https://lh3.google.com/u/0/d/14Xy_Mb17CZVgzVAgq7NCjMVBvSae3xO1\" align=\"center\" alt=\"unlock_cells.gif\">\n",
    "</details>"
   ]
  }
 ],
 "metadata": {
  "accelerator": "GPU",
  "colab": {
   "collapsed_sections": [],
   "name": "TensorFlow - Lunar Lander.ipynb",
   "provenance": []
  },
  "kernelspec": {
   "display_name": "Python 3",
   "language": "python",
   "name": "python3"
  },
  "language_info": {
   "codemirror_mode": {
    "name": "ipython",
    "version": 3
   },
   "file_extension": ".py",
   "mimetype": "text/x-python",
   "name": "python",
   "nbconvert_exporter": "python",
   "pygments_lexer": "ipython3",
   "version": "3.7.6"
  }
 },
 "nbformat": 4,
 "nbformat_minor": 1
}
